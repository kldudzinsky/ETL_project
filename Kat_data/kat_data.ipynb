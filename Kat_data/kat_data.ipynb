{
 "cells": [
  {
   "cell_type": "code",
   "execution_count": 1,
   "metadata": {},
   "outputs": [],
   "source": [
    "import pandas as pd                         \n",
    "import numpy as np        \n",
    "import pandas\n",
    "from os import listdir\n",
    "from os.path import isfile, join\n",
    "import csv\n",
    "from sqlalchemy import create_engine"
   ]
  },
  {
   "cell_type": "code",
   "execution_count": 2,
   "metadata": {},
   "outputs": [
    {
     "data": {
      "text/html": [
       "<div>\n",
       "<style scoped>\n",
       "    .dataframe tbody tr th:only-of-type {\n",
       "        vertical-align: middle;\n",
       "    }\n",
       "\n",
       "    .dataframe tbody tr th {\n",
       "        vertical-align: top;\n",
       "    }\n",
       "\n",
       "    .dataframe thead th {\n",
       "        text-align: right;\n",
       "    }\n",
       "</style>\n",
       "<table border=\"1\" class=\"dataframe\">\n",
       "  <thead>\n",
       "    <tr style=\"text-align: right;\">\n",
       "      <th></th>\n",
       "      <th>Parc et fréquentation des hébergements collectifs en 2017</th>\n",
       "      <th>Unnamed: 1</th>\n",
       "      <th>Unnamed: 2</th>\n",
       "      <th>Unnamed: 3</th>\n",
       "      <th>Unnamed: 4</th>\n",
       "      <th>Unnamed: 5</th>\n",
       "    </tr>\n",
       "  </thead>\n",
       "  <tbody>\n",
       "    <tr>\n",
       "      <th>0</th>\n",
       "      <td>NaN</td>\n",
       "      <td>NaN</td>\n",
       "      <td>NaN</td>\n",
       "      <td>NaN</td>\n",
       "      <td>NaN</td>\n",
       "      <td>NaN</td>\n",
       "    </tr>\n",
       "    <tr>\n",
       "      <th>1</th>\n",
       "      <td>NaN</td>\n",
       "      <td>Nombre d'établissements1</td>\n",
       "      <td>Nombre d'hébergements\\nen milliers2</td>\n",
       "      <td>Taux d'occupation\\nen %</td>\n",
       "      <td>Nuitées totales\\nen millions</td>\n",
       "      <td>Nuitées étrangères\\nen millions</td>\n",
       "    </tr>\n",
       "    <tr>\n",
       "      <th>2</th>\n",
       "      <td>Hôtels</td>\n",
       "      <td>17840</td>\n",
       "      <td>641</td>\n",
       "      <td>61.2</td>\n",
       "      <td>209.9</td>\n",
       "      <td>75.7</td>\n",
       "    </tr>\n",
       "    <tr>\n",
       "      <th>3</th>\n",
       "      <td>Campings3</td>\n",
       "      <td>8343</td>\n",
       "      <td>710</td>\n",
       "      <td>35.5</td>\n",
       "      <td>124</td>\n",
       "      <td>38.8</td>\n",
       "    </tr>\n",
       "    <tr>\n",
       "      <th>4</th>\n",
       "      <td>Autres hébergements collectifs touristiques (A...</td>\n",
       "      <td>3540</td>\n",
       "      <td>245</td>\n",
       "      <td>62.2</td>\n",
       "      <td>94.8</td>\n",
       "      <td>18.3</td>\n",
       "    </tr>\n",
       "  </tbody>\n",
       "</table>\n",
       "</div>"
      ],
      "text/plain": [
       "  Parc et fréquentation des hébergements collectifs en 2017  \\\n",
       "0                                                NaN          \n",
       "1                                                NaN          \n",
       "2                                             Hôtels          \n",
       "3                                          Campings3          \n",
       "4  Autres hébergements collectifs touristiques (A...          \n",
       "\n",
       "                 Unnamed: 1                           Unnamed: 2  \\\n",
       "0                       NaN                                  NaN   \n",
       "1  Nombre d'établissements1  Nombre d'hébergements\\nen milliers2   \n",
       "2                     17840                                  641   \n",
       "3                      8343                                  710   \n",
       "4                      3540                                  245   \n",
       "\n",
       "                Unnamed: 3                    Unnamed: 4  \\\n",
       "0                      NaN                           NaN   \n",
       "1  Taux d'occupation\\nen %  Nuitées totales\\nen millions   \n",
       "2                     61.2                         209.9   \n",
       "3                     35.5                           124   \n",
       "4                     62.2                          94.8   \n",
       "\n",
       "                        Unnamed: 5  \n",
       "0                              NaN  \n",
       "1  Nuitées étrangères\\nen millions  \n",
       "2                             75.7  \n",
       "3                             38.8  \n",
       "4                             18.3  "
      ]
     },
     "execution_count": 2,
     "metadata": {},
     "output_type": "execute_result"
    }
   ],
   "source": [
    "stock_attendance_2017=pd.read_excel(('T19F206.xls'),\n",
    "              sheet_name='Figure 1') \n",
    "stock_attendance_2017_df=pd.DataFrame(stock_attendance_2017)\n",
    "stock_attendance_2017_df.head()"
   ]
  },
  {
   "cell_type": "code",
   "execution_count": 3,
   "metadata": {},
   "outputs": [],
   "source": [
    "#drop row 0\n",
    "stock_attendance_2017_df=stock_attendance_2017_df.drop([0])"
   ]
  },
  {
   "cell_type": "code",
   "execution_count": 4,
   "metadata": {},
   "outputs": [],
   "source": [
    "#drop Nan rows\n",
    "stock_attendance_2017_df=stock_attendance_2017_df.drop([9,10,11,12,13])"
   ]
  },
  {
   "cell_type": "code",
   "execution_count": 5,
   "metadata": {},
   "outputs": [],
   "source": [
    "#new header\n",
    "new_header = stock_attendance_2017_df.iloc[0]"
   ]
  },
  {
   "cell_type": "code",
   "execution_count": 6,
   "metadata": {},
   "outputs": [],
   "source": [
    "stock_attendance_2017_df.columns=new_header"
   ]
  },
  {
   "cell_type": "code",
   "execution_count": 7,
   "metadata": {},
   "outputs": [],
   "source": [
    "#drop row 0\n",
    "stock_attendance_2017_df=stock_attendance_2017_df.drop([1])"
   ]
  },
  {
   "cell_type": "code",
   "execution_count": 8,
   "metadata": {},
   "outputs": [],
   "source": [
    "#rename columns\n",
    "stock_attendance_2017_df.columns = stock_attendance_2017_df.columns.fillna('type')\n",
    "stock_attendance_2017_df=stock_attendance_2017_df.rename(columns={\"type\": \"Establishment\", \"Nombre d'établissements1\": \"Number_of_Establishments\",\n",
    "                                                                 \"Nombre d'hébergements\\nen milliers2\":\"Number_of_Accomidations(thousands)\",\n",
    "                                                                 \"Taux d'occupation\\nen %\":\"Occupancy_Rate%\",\n",
    "                                                                 \"Nuitées totales\\nen millions\":\"Total_Night(millions)\",\n",
    "                                                                 \"Nuitées étrangères\\nen millions\":\"Foreign_Overnight_Stays(millions)\"})"
   ]
  },
  {
   "cell_type": "code",
   "execution_count": 9,
   "metadata": {},
   "outputs": [],
   "source": [
    "stock_attendance_2017_df=stock_attendance_2017_df.rename(columns={\"type\": \"Establishment\", \"Nombre d'établissements1\": \"Number_of_Establishments\",\n",
    "                                                                 \"Number_of_Accomidations(thousands)\":\"Number_of_Accomidations\",\n",
    "                                                                 \"Occupancy_Rate%\":\"Occupancy_Rate\",\n",
    "                                                                 \"Total_Night(millions)\":\"Total_Night\",\n",
    "                                                                 \"Foreign_Overnight_Stays(millions)\":\"Foreign_Overnight_Stays\"})"
   ]
  },
  {
   "cell_type": "code",
   "execution_count": 10,
   "metadata": {},
   "outputs": [],
   "source": [
    "#stock_attendance_2017_df"
   ]
  },
  {
   "cell_type": "code",
   "execution_count": 11,
   "metadata": {},
   "outputs": [],
   "source": [
    "#stock_attendance_2017_df\n",
    "#conect to local database\n",
    "rds_connection_string = \"postgres:Otis-1995@localhost:5432/france_tourism_db\"\n",
    "engine = create_engine(f'postgresql://{rds_connection_string}')"
   ]
  },
  {
   "cell_type": "code",
   "execution_count": 12,
   "metadata": {},
   "outputs": [
    {
     "data": {
      "text/plain": [
       "['stock_attendance_2017',\n",
       " 'sites_visited_2017',\n",
       " 'origin_attendance',\n",
       " 'dom_tour_consumption',\n",
       " 'eu_attendance',\n",
       " 'international_receipts']"
      ]
     },
     "execution_count": 12,
     "metadata": {},
     "output_type": "execute_result"
    }
   ],
   "source": [
    "engine.table_names()"
   ]
  },
  {
   "cell_type": "code",
   "execution_count": 13,
   "metadata": {},
   "outputs": [],
   "source": [
    "stock_attendance_2017_df=stock_attendance_2017_df.reset_index()"
   ]
  },
  {
   "cell_type": "code",
   "execution_count": 14,
   "metadata": {},
   "outputs": [],
   "source": [
    "stock_attendance_2017_df=stock_attendance_2017_df.rename(columns={\"index\":\"id\"})"
   ]
  },
  {
   "cell_type": "code",
   "execution_count": null,
   "metadata": {},
   "outputs": [],
   "source": [
    "stock_attendance_2017_df.to_sql(name='stock_attendance_2017', con=engine, if_exists='append', index=False)"
   ]
  },
  {
   "cell_type": "code",
   "execution_count": 15,
   "metadata": {},
   "outputs": [
    {
     "data": {
      "text/html": [
       "<div>\n",
       "<style scoped>\n",
       "    .dataframe tbody tr th:only-of-type {\n",
       "        vertical-align: middle;\n",
       "    }\n",
       "\n",
       "    .dataframe tbody tr th {\n",
       "        vertical-align: top;\n",
       "    }\n",
       "\n",
       "    .dataframe thead th {\n",
       "        text-align: right;\n",
       "    }\n",
       "</style>\n",
       "<table border=\"1\" class=\"dataframe\">\n",
       "  <thead>\n",
       "    <tr style=\"text-align: right;\">\n",
       "      <th></th>\n",
       "      <th>Monuments, sites culturels et récréatifs les plus fréquentés en 2017</th>\n",
       "      <th>Unnamed: 1</th>\n",
       "    </tr>\n",
       "  </thead>\n",
       "  <tbody>\n",
       "    <tr>\n",
       "      <th>0</th>\n",
       "      <td>NaN</td>\n",
       "      <td>NaN</td>\n",
       "    </tr>\n",
       "    <tr>\n",
       "      <th>1</th>\n",
       "      <td>NaN</td>\n",
       "      <td>en milliers de visiteurs</td>\n",
       "    </tr>\n",
       "    <tr>\n",
       "      <th>2</th>\n",
       "      <td>NaN</td>\n",
       "      <td>Visiteurs</td>\n",
       "    </tr>\n",
       "    <tr>\n",
       "      <th>3</th>\n",
       "      <td>Disneyland</td>\n",
       "      <td>14860</td>\n",
       "    </tr>\n",
       "    <tr>\n",
       "      <th>4</th>\n",
       "      <td>Musée du Louvre</td>\n",
       "      <td>8022.3</td>\n",
       "    </tr>\n",
       "  </tbody>\n",
       "</table>\n",
       "</div>"
      ],
      "text/plain": [
       "  Monuments, sites culturels et récréatifs les plus fréquentés en 2017  \\\n",
       "0                                                NaN                     \n",
       "1                                                NaN                     \n",
       "2                                                NaN                     \n",
       "3                                         Disneyland                     \n",
       "4                                   Musée du Louvre                      \n",
       "\n",
       "                 Unnamed: 1  \n",
       "0                       NaN  \n",
       "1  en milliers de visiteurs  \n",
       "2                 Visiteurs  \n",
       "3                     14860  \n",
       "4                    8022.3  "
      ]
     },
     "execution_count": 15,
     "metadata": {},
     "output_type": "execute_result"
    }
   ],
   "source": [
    "sites_visited_2017=pd.read_excel(('T19F206.xls'),\n",
    "              sheet_name='Figure 2') \n",
    "sites_visited_2017_df=pd.DataFrame(sites_visited_2017)\n",
    "sites_visited_2017_df.head()"
   ]
  },
  {
   "cell_type": "code",
   "execution_count": 16,
   "metadata": {},
   "outputs": [],
   "source": [
    " #dop frist 3 rows\n",
    "sites_visited_2017_df=sites_visited_2017_df.drop([0,1,2])"
   ]
  },
  {
   "cell_type": "code",
   "execution_count": 17,
   "metadata": {},
   "outputs": [],
   "source": [
    "sites_visited_2017_df=sites_visited_2017_df.rename(columns={\"Monuments, sites culturels et récréatifs les plus fréquentés en 2017\":\"Sites\",\n",
    "                                                            \"Unnamed: 1\":\"Number_of_Visitors_Millions\"})"
   ]
  },
  {
   "cell_type": "code",
   "execution_count": 18,
   "metadata": {},
   "outputs": [],
   "source": [
    "sites_visited_2017_df=sites_visited_2017_df.reset_index()\n"
   ]
  },
  {
   "cell_type": "code",
   "execution_count": 19,
   "metadata": {},
   "outputs": [],
   "source": [
    "sites_visited_2017_df=sites_visited_2017_df.rename(columns={\"index\":\"id\"})"
   ]
  },
  {
   "cell_type": "code",
   "execution_count": 20,
   "metadata": {},
   "outputs": [],
   "source": [
    "sites_visited_2017_df=sites_visited_2017_df.drop([19])"
   ]
  },
  {
   "cell_type": "code",
   "execution_count": 21,
   "metadata": {},
   "outputs": [],
   "source": [
    "sites_visited_2017_df=sites_visited_2017_df.drop([15,16,17,18])"
   ]
  },
  {
   "cell_type": "code",
   "execution_count": null,
   "metadata": {},
   "outputs": [],
   "source": [
    "sites_visited_2017_df.to_sql(name='sites_visited_2017', con=engine, if_exists='append', index=False)"
   ]
  },
  {
   "cell_type": "code",
   "execution_count": 22,
   "metadata": {},
   "outputs": [
    {
     "data": {
      "text/html": [
       "<div>\n",
       "<style scoped>\n",
       "    .dataframe tbody tr th:only-of-type {\n",
       "        vertical-align: middle;\n",
       "    }\n",
       "\n",
       "    .dataframe tbody tr th {\n",
       "        vertical-align: top;\n",
       "    }\n",
       "\n",
       "    .dataframe thead th {\n",
       "        text-align: right;\n",
       "    }\n",
       "</style>\n",
       "<table border=\"1\" class=\"dataframe\">\n",
       "  <thead>\n",
       "    <tr style=\"text-align: right;\">\n",
       "      <th></th>\n",
       "      <th>Fréquentation des hébergements collectifs selon la provenance de la clientèle en 2017</th>\n",
       "      <th>Unnamed: 1</th>\n",
       "      <th>Unnamed: 2</th>\n",
       "    </tr>\n",
       "  </thead>\n",
       "  <tbody>\n",
       "    <tr>\n",
       "      <th>0</th>\n",
       "      <td>NaN</td>\n",
       "      <td>NaN</td>\n",
       "      <td>NaN</td>\n",
       "    </tr>\n",
       "    <tr>\n",
       "      <th>1</th>\n",
       "      <td>NaN</td>\n",
       "      <td>NaN</td>\n",
       "      <td>en millions de nuitées</td>\n",
       "    </tr>\n",
       "    <tr>\n",
       "      <th>2</th>\n",
       "      <td>NaN</td>\n",
       "      <td>2017.000000</td>\n",
       "      <td>17/16\\nen %</td>\n",
       "    </tr>\n",
       "    <tr>\n",
       "      <th>3</th>\n",
       "      <td>France</td>\n",
       "      <td>295.963903</td>\n",
       "      <td>5.035282</td>\n",
       "    </tr>\n",
       "    <tr>\n",
       "      <th>4</th>\n",
       "      <td>Étranger</td>\n",
       "      <td>132.754125</td>\n",
       "      <td>6.754425</td>\n",
       "    </tr>\n",
       "  </tbody>\n",
       "</table>\n",
       "</div>"
      ],
      "text/plain": [
       "  Fréquentation des hébergements collectifs selon la provenance de la clientèle en 2017  \\\n",
       "0                                                NaN                                      \n",
       "1                                                NaN                                      \n",
       "2                                                NaN                                      \n",
       "3                                             France                                      \n",
       "4                                           Étranger                                      \n",
       "\n",
       "    Unnamed: 1              Unnamed: 2  \n",
       "0          NaN                     NaN  \n",
       "1          NaN  en millions de nuitées  \n",
       "2  2017.000000             17/16\\nen %  \n",
       "3   295.963903                5.035282  \n",
       "4   132.754125                6.754425  "
      ]
     },
     "execution_count": 22,
     "metadata": {},
     "output_type": "execute_result"
    }
   ],
   "source": [
    "origin_attendance_2017=pd.read_excel(('T19F206.xls'),\n",
    "              sheet_name='Figure 3') \n",
    "origin_attendance_2017_df=pd.DataFrame(origin_attendance_2017)\n",
    "origin_attendance_2017_df.head()"
   ]
  },
  {
   "cell_type": "code",
   "execution_count": 23,
   "metadata": {},
   "outputs": [],
   "source": [
    "#drop nan and non-data rows\n",
    "origin_attendance_2017_df=origin_attendance_2017_df.drop([0,1,2,23,24])"
   ]
  },
  {
   "cell_type": "code",
   "execution_count": 24,
   "metadata": {},
   "outputs": [],
   "source": [
    "#rename columns \n",
    "origin_attendance_2017_df=origin_attendance_2017_df.rename(columns={\"Fréquentation des hébergements collectifs selon la provenance de la clientèle en 2017\":\"attendance_origin\",\n",
    "                                                                   \"Unnamed: 1\":\"overnights_mil\",\n",
    "                                                                  \"Unnamed: 2\":\"percentage_change_from_prev_yr\"})\n",
    "#reset index\n",
    "origin_attendance_2017_df=origin_attendance_2017_df.reset_index()\n",
    "origin_attendance_2017_df=origin_attendance_2017_df.rename(columns={\"index\":\"id\"})"
   ]
  },
  {
   "cell_type": "code",
   "execution_count": null,
   "metadata": {},
   "outputs": [],
   "source": [
    "#send to db\n",
    "origin_attendance_2017_df.to_sql(name='origin_attendance', con=engine, if_exists='append', index=False)"
   ]
  },
  {
   "cell_type": "code",
   "execution_count": 26,
   "metadata": {},
   "outputs": [
    {
     "data": {
      "text/html": [
       "<div>\n",
       "<style scoped>\n",
       "    .dataframe tbody tr th:only-of-type {\n",
       "        vertical-align: middle;\n",
       "    }\n",
       "\n",
       "    .dataframe tbody tr th {\n",
       "        vertical-align: top;\n",
       "    }\n",
       "\n",
       "    .dataframe thead th {\n",
       "        text-align: right;\n",
       "    }\n",
       "</style>\n",
       "<table border=\"1\" class=\"dataframe\">\n",
       "  <thead>\n",
       "    <tr style=\"text-align: right;\">\n",
       "      <th></th>\n",
       "      <th>Consommation touristique intérieure en 2017</th>\n",
       "      <th>Unnamed: 1</th>\n",
       "      <th>Unnamed: 2</th>\n",
       "      <th>Unnamed: 3</th>\n",
       "      <th>Unnamed: 4</th>\n",
       "      <th>Unnamed: 5</th>\n",
       "    </tr>\n",
       "  </thead>\n",
       "  <tbody>\n",
       "    <tr>\n",
       "      <th>0</th>\n",
       "      <td>NaN</td>\n",
       "      <td>NaN</td>\n",
       "      <td>NaN</td>\n",
       "      <td>NaN</td>\n",
       "      <td>NaN</td>\n",
       "      <td>NaN</td>\n",
       "    </tr>\n",
       "    <tr>\n",
       "      <th>1</th>\n",
       "      <td>NaN</td>\n",
       "      <td>NaN</td>\n",
       "      <td>NaN</td>\n",
       "      <td>NaN</td>\n",
       "      <td>NaN</td>\n",
       "      <td>en milliards d’euros</td>\n",
       "    </tr>\n",
       "    <tr>\n",
       "      <th>2</th>\n",
       "      <td>NaN</td>\n",
       "      <td>2013.000000</td>\n",
       "      <td>2014.000000</td>\n",
       "      <td>2015.000000</td>\n",
       "      <td>2016.000000</td>\n",
       "      <td>2017</td>\n",
       "    </tr>\n",
       "    <tr>\n",
       "      <th>3</th>\n",
       "      <td>Dépense touristique intérieure</td>\n",
       "      <td>140.067892</td>\n",
       "      <td>141.486408</td>\n",
       "      <td>141.508848</td>\n",
       "      <td>138.893016</td>\n",
       "      <td>148.361297</td>\n",
       "    </tr>\n",
       "    <tr>\n",
       "      <th>4</th>\n",
       "      <td>Hébergements touristiques marchands</td>\n",
       "      <td>30.760564</td>\n",
       "      <td>31.245199</td>\n",
       "      <td>31.441177</td>\n",
       "      <td>29.896135</td>\n",
       "      <td>32.058217</td>\n",
       "    </tr>\n",
       "  </tbody>\n",
       "</table>\n",
       "</div>"
      ],
      "text/plain": [
       "  Consommation touristique intérieure en 2017   Unnamed: 1   Unnamed: 2  \\\n",
       "0                                         NaN          NaN          NaN   \n",
       "1                                         NaN          NaN          NaN   \n",
       "2                                         NaN  2013.000000  2014.000000   \n",
       "3              Dépense touristique intérieure   140.067892   141.486408   \n",
       "4        Hébergements touristiques marchands     30.760564    31.245199   \n",
       "\n",
       "    Unnamed: 3   Unnamed: 4            Unnamed: 5  \n",
       "0          NaN          NaN                   NaN  \n",
       "1          NaN          NaN  en milliards d’euros  \n",
       "2  2015.000000  2016.000000                  2017  \n",
       "3   141.508848   138.893016            148.361297  \n",
       "4    31.441177    29.896135             32.058217  "
      ]
     },
     "execution_count": 26,
     "metadata": {},
     "output_type": "execute_result"
    }
   ],
   "source": [
    "dom_tour_consumption=pd.read_excel(('T19F206.xls'),\n",
    "              sheet_name='Figure 4') \n",
    "dom_tour_consumption_df=pd.DataFrame(dom_tour_consumption)\n",
    "dom_tour_consumption_df.head()"
   ]
  },
  {
   "cell_type": "code",
   "execution_count": 27,
   "metadata": {},
   "outputs": [],
   "source": [
    "dom_tour_consumption_df=dom_tour_consumption_df.drop([0,1,14,15])"
   ]
  },
  {
   "cell_type": "code",
   "execution_count": 28,
   "metadata": {},
   "outputs": [],
   "source": [
    "dom_tour_consumption_df=dom_tour_consumption_df.rename(columns={\"Consommation touristique intérieure en 2017\":\"domestic_accomidations\",\n",
    "                                                                \"Unnamed: 1\":\"2013\",\"Unnamed: 2\":\"2014\",\"Unnamed: 3\":\"2015\",\n",
    "                                                                \"Unnamed: 4\":\"2016\",\"Unnamed: 5\":\"2017\"})"
   ]
  },
  {
   "cell_type": "code",
   "execution_count": 29,
   "metadata": {},
   "outputs": [],
   "source": [
    "dom_tour_consumption_df=dom_tour_consumption_df.drop([2])"
   ]
  },
  {
   "cell_type": "code",
   "execution_count": 30,
   "metadata": {},
   "outputs": [],
   "source": [
    "dom_tour_consumption_df=dom_tour_consumption_df.rename(columns={\"Domestic Accomidations\":\"domestic_accomidations\"})"
   ]
  },
  {
   "cell_type": "code",
   "execution_count": 31,
   "metadata": {},
   "outputs": [],
   "source": [
    "dom_tour_consumption_df=dom_tour_consumption_df.rename(columns={\"2013\":\"yr_2013\",\"2014\":\"yr_2014\",\"2015\":\"yr_2015\",\n",
    "                                                                \"2016\":\"yr_2016\",\"2017\":\"yr_2017\"})"
   ]
  },
  {
   "cell_type": "code",
   "execution_count": 32,
   "metadata": {},
   "outputs": [],
   "source": [
    "#reset index\n",
    "dom_tour_consumption_df=dom_tour_consumption_df.reset_index()\n",
    "dom_tour_consumption_df=dom_tour_consumption_df.rename(columns={\"index\":\"id\"})"
   ]
  },
  {
   "cell_type": "code",
   "execution_count": 33,
   "metadata": {},
   "outputs": [
    {
     "data": {
      "text/plain": [
       "['stock_attendance_2017',\n",
       " 'sites_visited_2017',\n",
       " 'origin_attendance',\n",
       " 'dom_tour_consumption',\n",
       " 'eu_attendance',\n",
       " 'international_receipts']"
      ]
     },
     "execution_count": 33,
     "metadata": {},
     "output_type": "execute_result"
    }
   ],
   "source": [
    "#check tables\n",
    "engine.table_names()"
   ]
  },
  {
   "cell_type": "code",
   "execution_count": 34,
   "metadata": {},
   "outputs": [
    {
     "data": {
      "text/html": [
       "<div>\n",
       "<style scoped>\n",
       "    .dataframe tbody tr th:only-of-type {\n",
       "        vertical-align: middle;\n",
       "    }\n",
       "\n",
       "    .dataframe tbody tr th {\n",
       "        vertical-align: top;\n",
       "    }\n",
       "\n",
       "    .dataframe thead th {\n",
       "        text-align: right;\n",
       "    }\n",
       "</style>\n",
       "<table border=\"1\" class=\"dataframe\">\n",
       "  <thead>\n",
       "    <tr style=\"text-align: right;\">\n",
       "      <th></th>\n",
       "      <th>id</th>\n",
       "      <th>domestic_accomidations</th>\n",
       "      <th>yr_2013</th>\n",
       "      <th>yr_2014</th>\n",
       "      <th>yr_2015</th>\n",
       "      <th>yr_2016</th>\n",
       "      <th>yr_2017</th>\n",
       "    </tr>\n",
       "  </thead>\n",
       "  <tbody>\n",
       "    <tr>\n",
       "      <th>0</th>\n",
       "      <td>3</td>\n",
       "      <td>Dépense touristique intérieure</td>\n",
       "      <td>140.067892</td>\n",
       "      <td>141.486408</td>\n",
       "      <td>141.508848</td>\n",
       "      <td>138.893016</td>\n",
       "      <td>148.361297</td>\n",
       "    </tr>\n",
       "    <tr>\n",
       "      <th>1</th>\n",
       "      <td>4</td>\n",
       "      <td>Hébergements touristiques marchands</td>\n",
       "      <td>30.760564</td>\n",
       "      <td>31.245199</td>\n",
       "      <td>31.441177</td>\n",
       "      <td>29.896135</td>\n",
       "      <td>32.058217</td>\n",
       "    </tr>\n",
       "    <tr>\n",
       "      <th>2</th>\n",
       "      <td>5</td>\n",
       "      <td>Restaurants et cafés</td>\n",
       "      <td>16.031694</td>\n",
       "      <td>16.265275</td>\n",
       "      <td>16.346349</td>\n",
       "      <td>15.601195</td>\n",
       "      <td>16.710100</td>\n",
       "    </tr>\n",
       "    <tr>\n",
       "      <th>3</th>\n",
       "      <td>6</td>\n",
       "      <td>Aliments et boissons</td>\n",
       "      <td>12.439159</td>\n",
       "      <td>12.582360</td>\n",
       "      <td>12.618114</td>\n",
       "      <td>12.330291</td>\n",
       "      <td>13.093600</td>\n",
       "    </tr>\n",
       "    <tr>\n",
       "      <th>4</th>\n",
       "      <td>7</td>\n",
       "      <td>Serv. de transport non urbain</td>\n",
       "      <td>27.823011</td>\n",
       "      <td>27.797469</td>\n",
       "      <td>29.450758</td>\n",
       "      <td>28.722902</td>\n",
       "      <td>30.972553</td>\n",
       "    </tr>\n",
       "  </tbody>\n",
       "</table>\n",
       "</div>"
      ],
      "text/plain": [
       "   id                domestic_accomidations     yr_2013     yr_2014  \\\n",
       "0   3        Dépense touristique intérieure  140.067892  141.486408   \n",
       "1   4  Hébergements touristiques marchands    30.760564   31.245199   \n",
       "2   5                 Restaurants et cafés    16.031694   16.265275   \n",
       "3   6                 Aliments et boissons    12.439159   12.582360   \n",
       "4   7        Serv. de transport non urbain    27.823011   27.797469   \n",
       "\n",
       "      yr_2015     yr_2016     yr_2017  \n",
       "0  141.508848  138.893016  148.361297  \n",
       "1   31.441177   29.896135   32.058217  \n",
       "2   16.346349   15.601195   16.710100  \n",
       "3   12.618114   12.330291   13.093600  \n",
       "4   29.450758   28.722902   30.972553  "
      ]
     },
     "execution_count": 34,
     "metadata": {},
     "output_type": "execute_result"
    }
   ],
   "source": [
    "dom_tour_consumption_df.head()"
   ]
  },
  {
   "cell_type": "code",
   "execution_count": null,
   "metadata": {},
   "outputs": [],
   "source": [
    "#send to db\n",
    "dom_tour_consumption_df.to_sql(name='dom_tour_consumption', con=engine, if_exists='append', index=False)"
   ]
  },
  {
   "cell_type": "code",
   "execution_count": 35,
   "metadata": {},
   "outputs": [
    {
     "data": {
      "text/html": [
       "<div>\n",
       "<style scoped>\n",
       "    .dataframe tbody tr th:only-of-type {\n",
       "        vertical-align: middle;\n",
       "    }\n",
       "\n",
       "    .dataframe tbody tr th {\n",
       "        vertical-align: top;\n",
       "    }\n",
       "\n",
       "    .dataframe thead th {\n",
       "        text-align: right;\n",
       "    }\n",
       "</style>\n",
       "<table border=\"1\" class=\"dataframe\">\n",
       "  <thead>\n",
       "    <tr style=\"text-align: right;\">\n",
       "      <th></th>\n",
       "      <th>Fréquentation des hébergements collectifs dans quelques pays de l'UE en 2017</th>\n",
       "      <th>Unnamed: 1</th>\n",
       "      <th>Unnamed: 2</th>\n",
       "    </tr>\n",
       "  </thead>\n",
       "  <tbody>\n",
       "    <tr>\n",
       "      <th>0</th>\n",
       "      <td>NaN</td>\n",
       "      <td>NaN</td>\n",
       "      <td>NaN</td>\n",
       "    </tr>\n",
       "    <tr>\n",
       "      <th>1</th>\n",
       "      <td>NaN</td>\n",
       "      <td>Nuitées\\nen millions</td>\n",
       "      <td>Nuitées des    non-résidents\\nen %</td>\n",
       "    </tr>\n",
       "    <tr>\n",
       "      <th>2</th>\n",
       "      <td>Allemagne</td>\n",
       "      <td>401.163218</td>\n",
       "      <td>20.72</td>\n",
       "    </tr>\n",
       "    <tr>\n",
       "      <th>3</th>\n",
       "      <td>Autriche</td>\n",
       "      <td>121.126543</td>\n",
       "      <td>71.04</td>\n",
       "    </tr>\n",
       "    <tr>\n",
       "      <th>4</th>\n",
       "      <td>Belgique</td>\n",
       "      <td>38.677308</td>\n",
       "      <td>48.24</td>\n",
       "    </tr>\n",
       "  </tbody>\n",
       "</table>\n",
       "</div>"
      ],
      "text/plain": [
       "  Fréquentation des hébergements collectifs dans quelques pays de l'UE en 2017  \\\n",
       "0                                                NaN                             \n",
       "1                                                NaN                             \n",
       "2                                          Allemagne                             \n",
       "3                                           Autriche                             \n",
       "4                                           Belgique                             \n",
       "\n",
       "             Unnamed: 1                          Unnamed: 2  \n",
       "0                   NaN                                 NaN  \n",
       "1  Nuitées\\nen millions  Nuitées des    non-résidents\\nen %  \n",
       "2            401.163218                               20.72  \n",
       "3            121.126543                               71.04  \n",
       "4             38.677308                               48.24  "
      ]
     },
     "execution_count": 35,
     "metadata": {},
     "output_type": "execute_result"
    }
   ],
   "source": [
    "EU_attendance=pd.read_excel(('T19F206.xls'),\n",
    "              sheet_name='Figure 5') \n",
    "EU_attendance_2017_df=pd.DataFrame(EU_attendance)\n",
    "EU_attendance_2017_df.head()"
   ]
  },
  {
   "cell_type": "code",
   "execution_count": 36,
   "metadata": {},
   "outputs": [],
   "source": [
    "EU_attendance_2017_df=EU_attendance_2017_df.rename(columns={\"Fréquentation des hébergements collectifs dans quelques pays de l'UE en 2017\":\"eu_countries\",\n",
    "                                                           \"Unnamed: 1\":\"overnight_stays_mil\",\"Unnamed: 2\":\"non_res_overnights_mil\"})"
   ]
  },
  {
   "cell_type": "code",
   "execution_count": 37,
   "metadata": {},
   "outputs": [],
   "source": [
    "EU_attendance_2017_df=EU_attendance_2017_df.drop([0,1,16,17,18])"
   ]
  },
  {
   "cell_type": "code",
   "execution_count": 38,
   "metadata": {},
   "outputs": [],
   "source": [
    "#rest index\n",
    "EU_attendance_2017_df=EU_attendance_2017_df.reset_index()"
   ]
  },
  {
   "cell_type": "code",
   "execution_count": 39,
   "metadata": {},
   "outputs": [],
   "source": [
    "EU_attendance_2017_df=EU_attendance_2017_df.rename(columns={\"index\":\"id\"})"
   ]
  },
  {
   "cell_type": "code",
   "execution_count": 42,
   "metadata": {},
   "outputs": [
    {
     "data": {
      "text/html": [
       "<div>\n",
       "<style scoped>\n",
       "    .dataframe tbody tr th:only-of-type {\n",
       "        vertical-align: middle;\n",
       "    }\n",
       "\n",
       "    .dataframe tbody tr th {\n",
       "        vertical-align: top;\n",
       "    }\n",
       "\n",
       "    .dataframe thead th {\n",
       "        text-align: right;\n",
       "    }\n",
       "</style>\n",
       "<table border=\"1\" class=\"dataframe\">\n",
       "  <thead>\n",
       "    <tr style=\"text-align: right;\">\n",
       "      <th></th>\n",
       "      <th>id</th>\n",
       "      <th>eu_countries</th>\n",
       "      <th>overnight_stays_mil</th>\n",
       "      <th>non_res_overnights_mil</th>\n",
       "    </tr>\n",
       "  </thead>\n",
       "  <tbody>\n",
       "    <tr>\n",
       "      <th>0</th>\n",
       "      <td>2</td>\n",
       "      <td>Allemagne</td>\n",
       "      <td>401.163218</td>\n",
       "      <td>20.72</td>\n",
       "    </tr>\n",
       "    <tr>\n",
       "      <th>1</th>\n",
       "      <td>3</td>\n",
       "      <td>Autriche</td>\n",
       "      <td>121.126543</td>\n",
       "      <td>71.04</td>\n",
       "    </tr>\n",
       "    <tr>\n",
       "      <th>2</th>\n",
       "      <td>4</td>\n",
       "      <td>Belgique</td>\n",
       "      <td>38.677308</td>\n",
       "      <td>48.24</td>\n",
       "    </tr>\n",
       "    <tr>\n",
       "      <th>3</th>\n",
       "      <td>5</td>\n",
       "      <td>Croatie</td>\n",
       "      <td>86.094847</td>\n",
       "      <td>93.13</td>\n",
       "    </tr>\n",
       "    <tr>\n",
       "      <th>4</th>\n",
       "      <td>6</td>\n",
       "      <td>Espagne</td>\n",
       "      <td>471.199729</td>\n",
       "      <td>64.92</td>\n",
       "    </tr>\n",
       "  </tbody>\n",
       "</table>\n",
       "</div>"
      ],
      "text/plain": [
       "   id eu_countries overnight_stays_mil non_res_overnights_mil\n",
       "0   2    Allemagne          401.163218                  20.72\n",
       "1   3     Autriche          121.126543                  71.04\n",
       "2   4     Belgique           38.677308                  48.24\n",
       "3   5      Croatie           86.094847                  93.13\n",
       "4   6      Espagne          471.199729                  64.92"
      ]
     },
     "execution_count": 42,
     "metadata": {},
     "output_type": "execute_result"
    }
   ],
   "source": [
    "#EU_attendance_2017_df=EU_attendance_2017_df.drop(columns=[\"level_0\"])\n",
    "EU_attendance_2017_df.head()"
   ]
  },
  {
   "cell_type": "code",
   "execution_count": null,
   "metadata": {},
   "outputs": [],
   "source": [
    "EU_attendance_2017_df.to_sql(name='eu_attendance', con=engine, if_exists='append', index=False)"
   ]
  },
  {
   "cell_type": "code",
   "execution_count": 61,
   "metadata": {},
   "outputs": [
    {
     "data": {
      "text/html": [
       "<div>\n",
       "<style scoped>\n",
       "    .dataframe tbody tr th:only-of-type {\n",
       "        vertical-align: middle;\n",
       "    }\n",
       "\n",
       "    .dataframe tbody tr th {\n",
       "        vertical-align: top;\n",
       "    }\n",
       "\n",
       "    .dataframe thead th {\n",
       "        text-align: right;\n",
       "    }\n",
       "</style>\n",
       "<table border=\"1\" class=\"dataframe\">\n",
       "  <thead>\n",
       "    <tr style=\"text-align: right;\">\n",
       "      <th></th>\n",
       "      <th>Recettes du tourisme international</th>\n",
       "      <th>Unnamed: 1</th>\n",
       "      <th>Unnamed: 2</th>\n",
       "      <th>Unnamed: 3</th>\n",
       "      <th>Unnamed: 4</th>\n",
       "      <th>Unnamed: 5</th>\n",
       "    </tr>\n",
       "  </thead>\n",
       "  <tbody>\n",
       "    <tr>\n",
       "      <th>0</th>\n",
       "      <td>NaN</td>\n",
       "      <td>NaN</td>\n",
       "      <td>NaN</td>\n",
       "      <td>NaN</td>\n",
       "      <td>NaN</td>\n",
       "      <td>NaN</td>\n",
       "    </tr>\n",
       "    <tr>\n",
       "      <th>1</th>\n",
       "      <td>NaN</td>\n",
       "      <td>NaN</td>\n",
       "      <td>NaN</td>\n",
       "      <td>NaN</td>\n",
       "      <td>NaN</td>\n",
       "      <td>en milliards d'euros</td>\n",
       "    </tr>\n",
       "    <tr>\n",
       "      <th>2</th>\n",
       "      <td>Rang</td>\n",
       "      <td>Pays récepteur</td>\n",
       "      <td>1990</td>\n",
       "      <td>2000</td>\n",
       "      <td>2017 (p)</td>\n",
       "      <td>Évolution annuelle\\n2017/2000 en %</td>\n",
       "    </tr>\n",
       "    <tr>\n",
       "      <th>3</th>\n",
       "      <td>1</td>\n",
       "      <td>États-Unis</td>\n",
       "      <td>33.837056</td>\n",
       "      <td>108.5</td>\n",
       "      <td>186.6</td>\n",
       "      <td>3.240923</td>\n",
       "    </tr>\n",
       "    <tr>\n",
       "      <th>4</th>\n",
       "      <td>2</td>\n",
       "      <td>Espagne</td>\n",
       "      <td>14.542845</td>\n",
       "      <td>33.4</td>\n",
       "      <td>60.3</td>\n",
       "      <td>3.536243</td>\n",
       "    </tr>\n",
       "  </tbody>\n",
       "</table>\n",
       "</div>"
      ],
      "text/plain": [
       "  Recettes du tourisme international       Unnamed: 1 Unnamed: 2 Unnamed: 3  \\\n",
       "0                                 NaN             NaN        NaN        NaN   \n",
       "1                                 NaN             NaN        NaN        NaN   \n",
       "2                                Rang  Pays récepteur       1990       2000   \n",
       "3                                   1      États-Unis  33.837056      108.5   \n",
       "4                                   2         Espagne  14.542845       33.4   \n",
       "\n",
       "  Unnamed: 4                          Unnamed: 5  \n",
       "0        NaN                                 NaN  \n",
       "1        NaN                en milliards d'euros  \n",
       "2   2017 (p)  Évolution annuelle\\n2017/2000 en %  \n",
       "3      186.6                            3.240923  \n",
       "4       60.3                            3.536243  "
      ]
     },
     "execution_count": 61,
     "metadata": {},
     "output_type": "execute_result"
    }
   ],
   "source": [
    "#sheet 6\n",
    "int_receipts=pd.read_excel(('T19F206.xls'),\n",
    "              sheet_name='Figure 6') \n",
    "int_receipts_2017_df=pd.DataFrame(int_receipts)\n",
    "int_receipts_2017_df.head()"
   ]
  },
  {
   "cell_type": "code",
   "execution_count": 62,
   "metadata": {},
   "outputs": [],
   "source": [
    "int_receipts_2017_df=int_receipts_2017_df.rename(columns=int_receipts_2017_df.iloc[2])\n"
   ]
  },
  {
   "cell_type": "code",
   "execution_count": 63,
   "metadata": {},
   "outputs": [
    {
     "data": {
      "text/html": [
       "<div>\n",
       "<style scoped>\n",
       "    .dataframe tbody tr th:only-of-type {\n",
       "        vertical-align: middle;\n",
       "    }\n",
       "\n",
       "    .dataframe tbody tr th {\n",
       "        vertical-align: top;\n",
       "    }\n",
       "\n",
       "    .dataframe thead th {\n",
       "        text-align: right;\n",
       "    }\n",
       "</style>\n",
       "<table border=\"1\" class=\"dataframe\">\n",
       "  <thead>\n",
       "    <tr style=\"text-align: right;\">\n",
       "      <th></th>\n",
       "      <th>Rang</th>\n",
       "      <th>Pays récepteur</th>\n",
       "      <th>1990</th>\n",
       "      <th>2000</th>\n",
       "      <th>2017 (p)</th>\n",
       "      <th>Évolution annuelle\\n2017/2000 en %</th>\n",
       "    </tr>\n",
       "  </thead>\n",
       "  <tbody>\n",
       "    <tr>\n",
       "      <th>0</th>\n",
       "      <td>NaN</td>\n",
       "      <td>NaN</td>\n",
       "      <td>NaN</td>\n",
       "      <td>NaN</td>\n",
       "      <td>NaN</td>\n",
       "      <td>NaN</td>\n",
       "    </tr>\n",
       "    <tr>\n",
       "      <th>1</th>\n",
       "      <td>NaN</td>\n",
       "      <td>NaN</td>\n",
       "      <td>NaN</td>\n",
       "      <td>NaN</td>\n",
       "      <td>NaN</td>\n",
       "      <td>en milliards d'euros</td>\n",
       "    </tr>\n",
       "    <tr>\n",
       "      <th>2</th>\n",
       "      <td>Rang</td>\n",
       "      <td>Pays récepteur</td>\n",
       "      <td>1990</td>\n",
       "      <td>2000</td>\n",
       "      <td>2017 (p)</td>\n",
       "      <td>Évolution annuelle\\n2017/2000 en %</td>\n",
       "    </tr>\n",
       "    <tr>\n",
       "      <th>3</th>\n",
       "      <td>1</td>\n",
       "      <td>États-Unis</td>\n",
       "      <td>33.837056</td>\n",
       "      <td>108.5</td>\n",
       "      <td>186.6</td>\n",
       "      <td>3.240923</td>\n",
       "    </tr>\n",
       "    <tr>\n",
       "      <th>4</th>\n",
       "      <td>2</td>\n",
       "      <td>Espagne</td>\n",
       "      <td>14.542845</td>\n",
       "      <td>33.4</td>\n",
       "      <td>60.3</td>\n",
       "      <td>3.536243</td>\n",
       "    </tr>\n",
       "  </tbody>\n",
       "</table>\n",
       "</div>"
      ],
      "text/plain": [
       "   Rang  Pays récepteur       1990   2000  2017 (p)  \\\n",
       "0   NaN             NaN        NaN    NaN       NaN   \n",
       "1   NaN             NaN        NaN    NaN       NaN   \n",
       "2  Rang  Pays récepteur       1990   2000  2017 (p)   \n",
       "3     1      États-Unis  33.837056  108.5     186.6   \n",
       "4     2         Espagne  14.542845   33.4      60.3   \n",
       "\n",
       "   Évolution annuelle\\n2017/2000 en %  \n",
       "0                                 NaN  \n",
       "1                en milliards d'euros  \n",
       "2  Évolution annuelle\\n2017/2000 en %  \n",
       "3                            3.240923  \n",
       "4                            3.536243  "
      ]
     },
     "execution_count": 63,
     "metadata": {},
     "output_type": "execute_result"
    }
   ],
   "source": [
    "int_receipts_2017_df.head()"
   ]
  },
  {
   "cell_type": "code",
   "execution_count": 64,
   "metadata": {},
   "outputs": [],
   "source": [
    "int_receipts_2017_df=int_receipts_2017_df.rename(columns={list(int_receipts_2017_df)[0]:\"rank\",\n",
    "                                                         list(int_receipts_2017_df)[1]:\"receiving_country\",\n",
    "                                                         list(int_receipts_2017_df)[2]:\"yr_1990\",\n",
    "                                                         list(int_receipts_2017_df)[3]:\"yr_2000\",\n",
    "                                                         list(int_receipts_2017_df)[4]:\"yr_2017\",\n",
    "                                                         list(int_receipts_2017_df)[5]:\"change_from_2000\"})"
   ]
  },
  {
   "cell_type": "code",
   "execution_count": 65,
   "metadata": {},
   "outputs": [],
   "source": [
    "int_receipts_2017_df=int_receipts_2017_df.drop([0,1,22,23,24,25,26,27])"
   ]
  },
  {
   "cell_type": "code",
   "execution_count": 66,
   "metadata": {},
   "outputs": [
    {
     "data": {
      "text/html": [
       "<div>\n",
       "<style scoped>\n",
       "    .dataframe tbody tr th:only-of-type {\n",
       "        vertical-align: middle;\n",
       "    }\n",
       "\n",
       "    .dataframe tbody tr th {\n",
       "        vertical-align: top;\n",
       "    }\n",
       "\n",
       "    .dataframe thead th {\n",
       "        text-align: right;\n",
       "    }\n",
       "</style>\n",
       "<table border=\"1\" class=\"dataframe\">\n",
       "  <thead>\n",
       "    <tr style=\"text-align: right;\">\n",
       "      <th></th>\n",
       "      <th>rank</th>\n",
       "      <th>receiving_country</th>\n",
       "      <th>yr_1990</th>\n",
       "      <th>yr_2000</th>\n",
       "      <th>yr_2017</th>\n",
       "      <th>change_from_2000</th>\n",
       "    </tr>\n",
       "  </thead>\n",
       "  <tbody>\n",
       "    <tr>\n",
       "      <th>2</th>\n",
       "      <td>Rang</td>\n",
       "      <td>Pays récepteur</td>\n",
       "      <td>1990</td>\n",
       "      <td>2000</td>\n",
       "      <td>2017 (p)</td>\n",
       "      <td>Évolution annuelle\\n2017/2000 en %</td>\n",
       "    </tr>\n",
       "    <tr>\n",
       "      <th>3</th>\n",
       "      <td>1</td>\n",
       "      <td>États-Unis</td>\n",
       "      <td>33.837056</td>\n",
       "      <td>108.500000</td>\n",
       "      <td>186.6</td>\n",
       "      <td>3.240923</td>\n",
       "    </tr>\n",
       "    <tr>\n",
       "      <th>4</th>\n",
       "      <td>2</td>\n",
       "      <td>Espagne</td>\n",
       "      <td>14.542845</td>\n",
       "      <td>33.400000</td>\n",
       "      <td>60.3</td>\n",
       "      <td>3.536243</td>\n",
       "    </tr>\n",
       "    <tr>\n",
       "      <th>5</th>\n",
       "      <td>3</td>\n",
       "      <td>France</td>\n",
       "      <td>15.881158</td>\n",
       "      <td>35.705000</td>\n",
       "      <td>53.7</td>\n",
       "      <td>2.429768</td>\n",
       "    </tr>\n",
       "    <tr>\n",
       "      <th>6</th>\n",
       "      <td>4</td>\n",
       "      <td>Thaïlande</td>\n",
       "      <td>3.403611</td>\n",
       "      <td>8.104798</td>\n",
       "      <td>50.9</td>\n",
       "      <td>11.413994</td>\n",
       "    </tr>\n",
       "  </tbody>\n",
       "</table>\n",
       "</div>"
      ],
      "text/plain": [
       "   rank receiving_country    yr_1990     yr_2000   yr_2017  \\\n",
       "2  Rang    Pays récepteur       1990        2000  2017 (p)   \n",
       "3     1        États-Unis  33.837056  108.500000     186.6   \n",
       "4     2           Espagne  14.542845   33.400000      60.3   \n",
       "5     3            France  15.881158   35.705000      53.7   \n",
       "6     4         Thaïlande   3.403611    8.104798      50.9   \n",
       "\n",
       "                     change_from_2000  \n",
       "2  Évolution annuelle\\n2017/2000 en %  \n",
       "3                            3.240923  \n",
       "4                            3.536243  \n",
       "5                            2.429768  \n",
       "6                           11.413994  "
      ]
     },
     "execution_count": 66,
     "metadata": {},
     "output_type": "execute_result"
    }
   ],
   "source": [
    "#int_receipts_2017_df=int_receipts_2017_df.drop(columns=\"rank\")\n",
    "int_receipts_2017_df.head()"
   ]
  },
  {
   "cell_type": "code",
   "execution_count": 67,
   "metadata": {},
   "outputs": [],
   "source": [
    "int_receipts_2017_df=int_receipts_2017_df.drop([2])"
   ]
  },
  {
   "cell_type": "code",
   "execution_count": 68,
   "metadata": {},
   "outputs": [],
   "source": [
    "int_receipts_2017_df=int_receipts_2017_df.reset_index()\n",
    "int_receipts_2017_df=int_receipts_2017_df.rename(columns={\"index\":\"id\"})"
   ]
  },
  {
   "cell_type": "code",
   "execution_count": 69,
   "metadata": {},
   "outputs": [
    {
     "data": {
      "text/html": [
       "<div>\n",
       "<style scoped>\n",
       "    .dataframe tbody tr th:only-of-type {\n",
       "        vertical-align: middle;\n",
       "    }\n",
       "\n",
       "    .dataframe tbody tr th {\n",
       "        vertical-align: top;\n",
       "    }\n",
       "\n",
       "    .dataframe thead th {\n",
       "        text-align: right;\n",
       "    }\n",
       "</style>\n",
       "<table border=\"1\" class=\"dataframe\">\n",
       "  <thead>\n",
       "    <tr style=\"text-align: right;\">\n",
       "      <th></th>\n",
       "      <th>id</th>\n",
       "      <th>rank</th>\n",
       "      <th>receiving_country</th>\n",
       "      <th>yr_1990</th>\n",
       "      <th>yr_2000</th>\n",
       "      <th>yr_2017</th>\n",
       "      <th>change_from_2000</th>\n",
       "    </tr>\n",
       "  </thead>\n",
       "  <tbody>\n",
       "    <tr>\n",
       "      <th>0</th>\n",
       "      <td>3</td>\n",
       "      <td>1</td>\n",
       "      <td>États-Unis</td>\n",
       "      <td>33.837056</td>\n",
       "      <td>108.500000</td>\n",
       "      <td>186.6</td>\n",
       "      <td>3.240923</td>\n",
       "    </tr>\n",
       "    <tr>\n",
       "      <th>1</th>\n",
       "      <td>4</td>\n",
       "      <td>2</td>\n",
       "      <td>Espagne</td>\n",
       "      <td>14.542845</td>\n",
       "      <td>33.400000</td>\n",
       "      <td>60.3</td>\n",
       "      <td>3.536243</td>\n",
       "    </tr>\n",
       "    <tr>\n",
       "      <th>2</th>\n",
       "      <td>5</td>\n",
       "      <td>3</td>\n",
       "      <td>France</td>\n",
       "      <td>15.881158</td>\n",
       "      <td>35.705000</td>\n",
       "      <td>53.7</td>\n",
       "      <td>2.429768</td>\n",
       "    </tr>\n",
       "    <tr>\n",
       "      <th>3</th>\n",
       "      <td>6</td>\n",
       "      <td>4</td>\n",
       "      <td>Thaïlande</td>\n",
       "      <td>3.403611</td>\n",
       "      <td>8.104798</td>\n",
       "      <td>50.9</td>\n",
       "      <td>11.413994</td>\n",
       "    </tr>\n",
       "    <tr>\n",
       "      <th>4</th>\n",
       "      <td>7</td>\n",
       "      <td>5</td>\n",
       "      <td>Royaume-Uni</td>\n",
       "      <td>12.096746</td>\n",
       "      <td>23.654235</td>\n",
       "      <td>45.3</td>\n",
       "      <td>3.896130</td>\n",
       "    </tr>\n",
       "  </tbody>\n",
       "</table>\n",
       "</div>"
      ],
      "text/plain": [
       "   id rank receiving_country    yr_1990     yr_2000 yr_2017 change_from_2000\n",
       "0   3    1        États-Unis  33.837056  108.500000   186.6         3.240923\n",
       "1   4    2           Espagne  14.542845   33.400000    60.3         3.536243\n",
       "2   5    3            France  15.881158   35.705000    53.7         2.429768\n",
       "3   6    4         Thaïlande   3.403611    8.104798    50.9        11.413994\n",
       "4   7    5       Royaume-Uni  12.096746   23.654235    45.3         3.896130"
      ]
     },
     "execution_count": 69,
     "metadata": {},
     "output_type": "execute_result"
    }
   ],
   "source": [
    "int_receipts_2017_df.head()"
   ]
  },
  {
   "cell_type": "code",
   "execution_count": null,
   "metadata": {},
   "outputs": [],
   "source": [
    "int_receipts_2017_df.to_sql(name='international_receipts', con=engine, if_exists='append', index=False)"
   ]
  },
  {
   "cell_type": "code",
   "execution_count": 90,
   "metadata": {},
   "outputs": [],
   "source": [
    "#dfs to csvs\n",
    "#sites_visited_2017_df.to_csv(r'Kat_data/Clean \\sites_visited_2017.csv', index = False)\n",
    "stock_attendance_2017_df.to_csv(r'stock_attendance_2017.csv', index = False)\n",
    "origin_attendance_2017_df.to_csv(r'origin_attendance_2017.csv', index = False)\n",
    "dom_tour_consumption_df.to_csv(r'domestic_tourism_consumption_2017.csv', index = False)\n",
    "EU_attendance_2017_df.to_csv(r'EU_attendance_2017.csv', index = False)\n",
    "int_receipts_2017_df.to_csv(r'international_receipts_2017.csv', index = False)"
   ]
  },
  {
   "cell_type": "code",
   "execution_count": 89,
   "metadata": {},
   "outputs": [],
   "source": [
    "sites_visited_2017_df.to_csv(r'sites_visited_2017.csv', index = False)\n"
   ]
  },
  {
   "cell_type": "code",
   "execution_count": null,
   "metadata": {},
   "outputs": [],
   "source": []
  }
 ],
 "metadata": {
  "kernelspec": {
   "display_name": "Python 3",
   "language": "python",
   "name": "python3"
  },
  "language_info": {
   "codemirror_mode": {
    "name": "ipython",
    "version": 3
   },
   "file_extension": ".py",
   "mimetype": "text/x-python",
   "name": "python",
   "nbconvert_exporter": "python",
   "pygments_lexer": "ipython3",
   "version": "3.8.5"
  }
 },
 "nbformat": 4,
 "nbformat_minor": 4
}
